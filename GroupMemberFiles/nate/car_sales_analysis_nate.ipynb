{
 "cells": [
  {
   "cell_type": "code",
   "execution_count": null,
   "id": "0267a82a-e959-4058-becf-a303b1df6623",
   "metadata": {},
   "outputs": [],
   "source": [
    "\n",
    "car_interior = cars_clean_df.groupby(\"interior\")[[\"mmr\", \"sellingprice\"]].count().reset_index().sort_values('sellingprice', ascending = True)\n",
    "\n",
    "car_interior_sum = car_interior['sellingprice'].sum()\n",
    "\n",
    "car_col = cars_clean_df.groupby(\"color\")[[\"mmr\", \"sellingprice\"]].mean().reset_index()\n",
    "car_col\n",
    "\n",
    "car_interior\n",
    "for inte in car_col[\"sellingprice\"]:\n",
    "    car_interior['percentofcountinterior'] = car_interior['sellingprice'] / car_interior_sum * 100\n",
    "\n",
    "car_interior\n",
    "carmi = car_interior.sort_values(\"sellingprice\", ascending = True)\n",
    "carmi\n",
    "\n",
    "colors_use = [\n",
    "    \"#FFFF00\",\n",
    "    \"#FFA500\",\n",
    "    \"#800020\",\n",
    "    \"#00FF00\",\n",
    "    \"#FFFFFF\",\n",
    "    \"#800080\",\n",
    "    \"#FFD700\",\n",
    "    \"#FAF9F6\",\n",
    "    \"#0000FF\",\n",
    "    \"#C0C0C0\",\n",
    "    \"#FF0000\",\n",
    "    \"#964B00\",\n",
    "    \"#3AAEB1\",\n",
    "    \"#D2B48C\",\n",
    "    \"#F5F5DC\",\n",
    "    \"#808080\",\n",
    "    \"#000000\",\n",
    "]    \n",
    "# carmen car_ma.drop()\n",
    "\n",
    "plt.pie(carmi[\"sellingprice\"], colors= colors_use)\n",
    "plt.tight_layout()\n",
    "plt.legend(carmi[\"interior\"])\n",
    "\n",
    "plt.show()"
   ]
  },
  {
   "cell_type": "code",
   "execution_count": null,
   "id": "3a178336-e649-4164-936c-4901add473c4",
   "metadata": {},
   "outputs": [],
   "source": [
    "car_colo= cars_clean_df.groupby(\"color\")[[\"mmr\", \"sellingprice\"]].count().reset_index()\n",
    "car_colo\n",
    "exterior_sum = car_colo['sellingprice'].sum()\n",
    "\n",
    "for exterior in car_colo[\"sellingprice\"]:\n",
    "    car_colo[\"percentofcount\"] = car_colo['sellingprice'] / exterior_sum * 100\n",
    "\n",
    "car_colo\n",
    "\n",
    "interior_and_exterior = car_col.join(car_colo, lsuffix= '1')\n",
    "interior_and_exterior\n",
    "\n",
    "for colors in interior_and_exterior:\n",
    "    interior_and_exterior['ppercolor']= interior_and_exterior['sellingprice1'] / interior_and_exterior['sellingprice']\n",
    "\n"
   ]
  },
  {
   "cell_type": "code",
   "execution_count": null,
   "id": "d5e45abd-bb65-4787-bd5d-1db6e914d5f4",
   "metadata": {},
   "outputs": [],
   "source": [
    "intex =interior_and_exterior.sort_values('sellingprice1', ascending = True).reset_index().drop(19)\n",
    "intex\n",
    "\n",
    "plt.barh(intex['color1'], intex['sellingprice1'])\n",
    "plt.title(\"Average price of car based on color\")\n",
    "plt.xlabel(\"Average selling price in thousands\" )\n",
    "plt.ylabel(\"Color of car exterior\")\n",
    "plt.show()"
   ]
  },
  {
   "cell_type": "code",
   "execution_count": null,
   "id": "41db1bad-0e6a-4cf9-a9b4-9427e7804fa7",
   "metadata": {},
   "outputs": [],
   "source": [
    "intex2 = intex.sort_values('sellingprice', ascending = True).reset_index()\n",
    "\n",
    "\n",
    "plt.barh(intex2['color1'], intex2['sellingprice'])\n",
    "plt.title(\"Count of cars sold based on color\")\n",
    "plt.xlabel(\"Count of cars sold in thousands\" )\n",
    "plt.ylabel(\"Color of car exterior\")\n",
    "plt.show()"
   ]
  },
  {
   "cell_type": "code",
   "execution_count": null,
   "id": "a51e63f7-6e1e-45fa-9928-9692927905ca",
   "metadata": {},
   "outputs": [],
   "source": [
    "intex3 = intex.sort_values('ppercolor', ascending= True).reset_index()\n",
    "plt.barh(intex3['color1'], intex3['ppercolor'])\n",
    "plt.title(\"Price per car based on color\")\n",
    "plt.xlabel(\"Average price per car\" )\n",
    "plt.ylabel(\"Color of car exterior\")\n",
    "plt.show()"
   ]
  },
  {
   "cell_type": "code",
   "execution_count": null,
   "id": "3bc92aa1-c230-442c-aaa7-ed53063fccc9",
   "metadata": {},
   "outputs": [],
   "source": [
    "plt.figure(figsize=(8, 6))\n",
    "plt.hist(cars_clean_df['sellingprice'], bins= 50, color='skyblue', edgecolor='black')  # Adjust the number of bins as needed\n",
    "plt.xlabel('Values')\n",
    "plt.ylabel('Frequency')\n",
    "plt.title('Histogram of Data Distribution')\n",
    "plt.show()"
   ]
  },
  {
   "cell_type": "code",
   "execution_count": null,
   "id": "ccc3feb9-d6e7-4b60-821e-3d44df84ac86",
   "metadata": {},
   "outputs": [],
   "source": [
    "bins = [0, 25000, 50000, 75000, 100000, 100000000000000000]\n",
    "bin_labels = [\"0-25000\",\"25000-50000\",\"50000-75000\", \"75000-100000\", \">100000\"]\n",
    "\n",
    "cars_copy = cars_clean_df.copy()\n",
    "\n",
    "cars_copy[\"odometer ranges\"] = pd.cut(cars_copy[\"odometer\"], bins, labels= bin_labels, include_lowest= True)\n",
    "\n",
    "cars_copy = cars_copy.sort_values(by= \"odometer ranges\", ascending= True)\n",
    "\n",
    "cars_copy"
   ]
  },
  {
   "cell_type": "code",
   "execution_count": null,
   "id": "824631c9-6e83-4f87-b982-981ae7e04aa9",
   "metadata": {},
   "outputs": [],
   "source": [
    "carbin_mean = cars_copy.groupby('odometer ranges')[['sellingprice']].mean().reset_index()\n",
    "carbin_mean\n",
    "\n",
    "plt.pie(carbin_mean['sellingprice'], labels= carbin_mean[\"odometer ranges\"], autopct= \"%1.1f%%\")\n",
    "plt.show()"
   ]
  }
 ],
 "metadata": {
  "kernelspec": {
   "display_name": "Python 3 (ipykernel)",
   "language": "python",
   "name": "python3"
  },
  "language_info": {
   "codemirror_mode": {
    "name": "ipython",
    "version": 3
   },
   "file_extension": ".py",
   "mimetype": "text/x-python",
   "name": "python",
   "nbconvert_exporter": "python",
   "pygments_lexer": "ipython3",
   "version": "3.12.4"
  }
 },
 "nbformat": 4,
 "nbformat_minor": 5
}
